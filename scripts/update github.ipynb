{
 "cells": [
  {
   "cell_type": "code",
   "execution_count": 35,
   "metadata": {},
   "outputs": [
    {
     "name": "stdout",
     "output_type": "stream",
     "text": [
      "1816 1783\n"
     ]
    }
   ],
   "source": [
    "import os\n",
    "import yaml\n",
    "\n",
    "#all_posts.txt is generated with the following command from the repo's root directory:\n",
    "# $ find `pwd`/_posts -type f  > all_posts.txt\n",
    "\n",
    "cwd = os.getcwd()\n",
    "docs_path = os.path.split(cwd)[0]\n",
    "\n",
    "file_names = []\n",
    "with open(os.path.join(docs_path,'all_posts.txt')) as f:\n",
    "    file_names = [line.split('\\n')[0] for line in f]\n",
    "\n",
    "no_swp = list(filter(lambda x: '.swp' not in x,file_names))\n",
    "html = list(filter(lambda x: '.html' in x,no_swp))\n",
    "\n",
    "def get_file(n):\n",
    "    py_file = []\n",
    "    with open(n) as f:\n",
    "        py_file = [l.split('\\n')[0] for l in f]\n",
    "        \n",
    "    return py_file,n\n",
    "\n",
    "def get_name(f):\n",
    "    name =[]\n",
    "    language = ''\n",
    "    c = 1\n",
    "    if f[0]=='---':\n",
    "        while c <2:\n",
    "            for a in f:\n",
    "                if a == '---':\n",
    "                    c+=1\n",
    "                if 'name:' in a[0:5]:\n",
    "                    name.append(a)\n",
    "                if 'language: ' in a[0:10]:\n",
    "                    language = a.split('language: ')[1]\n",
    "            if len(name) >= 1:\n",
    "                return name[-1] + language\n",
    "    return None\n",
    "\n",
    "files = [get_file(n) for n in html]\n",
    "names = [(n,get_name(f)) for f,n in files if get_name(f)]\n",
    "\n",
    "#make sure that most names are unique so that we know we have few as 404s as possible\n",
    "c = [n[1] for n in names]\n",
    "print(len(c),len(set(c)))\n",
    "\n",
    "get_git_data = lambda names: {n.split('name: ')[1]: 'https://github.com/plotly/documentation/tree/source-design-merge/' + '/'.join(loc.split(docs_path)[1].split('/')[0:-1]) for loc,n in names}\n",
    "\n",
    "git_data = get_git_data(names)\n",
    "\n",
    "with open(os.path.join(docs_path,'_data','git_url.yml'), 'w') as outfile:\n",
    "    yaml.dump(git_data, outfile, default_flow_style=False)"
   ]
  }
 ],
 "metadata": {
  "kernelspec": {
   "display_name": "Python 3",
   "language": "python",
   "name": "python3"
  },
  "language_info": {
   "codemirror_mode": {
    "name": "ipython",
    "version": 3
   },
   "file_extension": ".py",
   "mimetype": "text/x-python",
   "name": "python",
   "nbconvert_exporter": "python",
   "pygments_lexer": "ipython3",
   "version": "3.6.5"
  }
 },
 "nbformat": 4,
 "nbformat_minor": 2
}
